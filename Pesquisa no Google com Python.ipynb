{
 "cells": [
  {
   "cell_type": "code",
   "execution_count": 4,
   "id": "2f868a5b",
   "metadata": {},
   "outputs": [
    {
     "name": "stdout",
     "output_type": "stream",
     "text": [
      "['https://docs.microsoft.com/pt-br/windows/python/scripting', 'https://terminalroot.com.br/2019/10/script-basico-de-python-para-aprendizado.html', 'https://www.freecodecamp.org/portuguese/news/exemplos-de-codigo-em-python-tutorial-de-programacao-com-scripts-de-exemplo-para-iniciantes/', 'http://www.estruturas.ufpr.br/disciplinas/pos-graduacao/introducao-a-computacao-cientifica-com-python/introducao-python/1-5/', 'https://linuxhint.com/python_scripts_beginners_guide/', 'https://www.scriptbrasil.com.br/codigos/python/', 'https://pense-python.caravela.club/02-variaveis-expressoes-e-instrucoes/04-modo-script.html']\n"
     ]
    }
   ],
   "source": [
    "from googlesearch import search\n",
    "\n",
    "query = 'scriptpython'\n",
    "result = list(\n",
    "    search(\n",
    "        query,\n",
    "        lang='pt-br' ,\n",
    "        num_results=5\n",
    "        )\n",
    "    )\n",
    "print(result)"
   ]
  },
  {
   "cell_type": "code",
   "execution_count": null,
   "id": "1295155c",
   "metadata": {},
   "outputs": [],
   "source": []
  }
 ],
 "metadata": {
  "kernelspec": {
   "display_name": "Python 3 (ipykernel)",
   "language": "python",
   "name": "python3"
  },
  "language_info": {
   "codemirror_mode": {
    "name": "ipython",
    "version": 3
   },
   "file_extension": ".py",
   "mimetype": "text/x-python",
   "name": "python",
   "nbconvert_exporter": "python",
   "pygments_lexer": "ipython3",
   "version": "3.9.7"
  }
 },
 "nbformat": 4,
 "nbformat_minor": 5
}

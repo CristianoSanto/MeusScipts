{
 "cells": [
  {
   "cell_type": "markdown",
   "id": "6a5150c5",
   "metadata": {},
   "source": [
    "## Convertendo texto em fala"
   ]
  },
  {
   "cell_type": "code",
   "execution_count": 1,
   "id": "0fb63029",
   "metadata": {},
   "outputs": [],
   "source": [
    "import pyttsx3\n",
    "engine = pyttsx3.init()\n",
    "\n",
    "# Texto que vai falar\n",
    "engine.say('Hello, my friend')\n",
    "engine.say('How are you?')\n",
    "\n",
    "#Execução\n",
    "engine.runAndWait()"
   ]
  }
 ],
 "metadata": {
  "kernelspec": {
   "display_name": "Python 3 (ipykernel)",
   "language": "python",
   "name": "python3"
  },
  "language_info": {
   "codemirror_mode": {
    "name": "ipython",
    "version": 3
   },
   "file_extension": ".py",
   "mimetype": "text/x-python",
   "name": "python",
   "nbconvert_exporter": "python",
   "pygments_lexer": "ipython3",
   "version": "3.9.7"
  }
 },
 "nbformat": 4,
 "nbformat_minor": 5
}

{
 "cells": [
  {
   "cell_type": "markdown",
   "id": "eebeddaf",
   "metadata": {},
   "source": [
    "## Fake Python"
   ]
  },
  {
   "cell_type": "code",
   "execution_count": 3,
   "id": "dfd51ec8",
   "metadata": {},
   "outputs": [
    {
     "name": "stdout",
     "output_type": "stream",
     "text": [
      "Jasmine Cruz\n",
      "robertknight@example.net\n",
      "Australia\n",
      "{'job': 'Cartographer', 'company': 'Wood Group', 'ssn': '594-31-3908', 'residence': '71196 Fritz Row\\nJeanetteview, IN 15386', 'current_location': (Decimal('-54.045227'), Decimal('-0.183065')), 'blood_group': 'O-', 'website': ['http://www.gonzalez-davidson.com/', 'http://jordan.net/', 'https://morris.biz/', 'https://www.nelson.com/'], 'username': 'rosekathy', 'name': 'Tommy Cooper', 'sex': 'M', 'address': '938 Anderson Lodge Suite 783\\nNew Cynthia, NE 98146', 'mail': 'mguerra@hotmail.com', 'birthdate': datetime.date(1933, 7, 25)}\n"
     ]
    }
   ],
   "source": [
    "from faker import Faker\n",
    "fake = Faker()\n",
    "print(fake.name())\n",
    "print(fake.email())\n",
    "print(fake.country())\n",
    "\n",
    "print(fake.profile())"
   ]
  },
  {
   "cell_type": "code",
   "execution_count": null,
   "id": "1eacf87d",
   "metadata": {},
   "outputs": [],
   "source": []
  }
 ],
 "metadata": {
  "kernelspec": {
   "display_name": "Python 3 (ipykernel)",
   "language": "python",
   "name": "python3"
  },
  "language_info": {
   "codemirror_mode": {
    "name": "ipython",
    "version": 3
   },
   "file_extension": ".py",
   "mimetype": "text/x-python",
   "name": "python",
   "nbconvert_exporter": "python",
   "pygments_lexer": "ipython3",
   "version": "3.9.7"
  }
 },
 "nbformat": 4,
 "nbformat_minor": 5
}
